{
  "nbformat": 4,
  "nbformat_minor": 0,
  "metadata": {
    "colab": {
      "provenance": []
    },
    "kernelspec": {
      "name": "python3",
      "display_name": "Python 3"
    },
    "language_info": {
      "name": "python"
    }
  },
  "cells": [
    {
      "cell_type": "markdown",
      "source": [
        "# Implementación del algoritmo K-medias\n",
        "\n",
        "Utilizando el lenguaje de programación python realizamos un caso de agrupación con un conjunto de puntos."
      ],
      "metadata": {
        "id": "qz1hLpIbzzSd"
      }
    },
    {
      "cell_type": "markdown",
      "source": [
        "## Librerias"
      ],
      "metadata": {
        "id": "xKQsMXll0Dch"
      }
    },
    {
      "cell_type": "code",
      "execution_count": 24,
      "metadata": {
        "id": "LQaLDCcOVFCB"
      },
      "outputs": [],
      "source": [
        "# Importamos las librerias\n",
        "\n",
        "%matplotlib inline\n",
        "import numpy as np\n",
        "import pandas as pd\n",
        "import matplotlib.pyplot as plt\n",
        "\n"
      ]
    },
    {
      "cell_type": "code",
      "source": [
        "# Leemos y graficamos el conjunto de puntos\n",
        "\n",
        "df=pd.read_csv(\"kmedias.csv\")\n",
        "plt.scatter(df['x'],df['y'],c='r',s=18)"
      ],
      "metadata": {
        "colab": {
          "base_uri": "https://localhost:8080/",
          "height": 448
        },
        "id": "vprsdYfPzxK1",
        "outputId": "f5810de5-9924-4c1e-de9d-19eee7cffbf0"
      },
      "execution_count": 25,
      "outputs": [
        {
          "output_type": "execute_result",
          "data": {
            "text/plain": [
              "<matplotlib.collections.PathCollection at 0x7afdabe90af0>"
            ]
          },
          "metadata": {},
          "execution_count": 25
        },
        {
          "output_type": "display_data",
          "data": {
            "text/plain": [
              "<Figure size 640x480 with 1 Axes>"
            ],
            "image/png": "[encoded data removed]"
          },
          "metadata": {}
        }
      ]
    },
    {
      "cell_type": "markdown",
      "source": [
        "## Iniciamos los centros del algoritmo de manera aleatoria"
      ],
      "metadata": {
        "id": "1jGhbvms0PHA"
      }
    },
    {
      "cell_type": "code",
      "source": [
        "# Asignamos un valor para k (número de agrupaciones)\n",
        "k=3\n",
        "\n",
        "# Creamos una matriz que contenga todos los puntos\n",
        "X=np.array(list(zip(df['x'],df['y'])))\n",
        "\n",
        "# Generamos k puntos aleatorios como centroides\n",
        "Cx = np.random.randint(np.min(X[:,0]), np.max(X[:,0]), size=k)\n",
        "Cy = np.random.randint(np.min(X[:,1]), np.max(X[:,1]), size=k)\n",
        "\n",
        "# Representamos los k centroides como una matriz\n",
        "\n",
        "C=np.array(list(zip(Cx,Cy)), dtype=np.float64)\n",
        "print(C)\n",
        "\n",
        "# Graficamos los puntos originales así como también los k centroides\n",
        "plt.scatter(df['x'], df['y'],c='r', s=8)\n",
        "plt.scatter(Cx, Cy, marker='*', c='g', s=160)\n",
        "plt.xlabel(\"x\")\n",
        "plt.ylabel(\"y\")\n"
      ],
      "metadata": {
        "colab": {
          "base_uri": "https://localhost:8080/",
          "height": 520
        },
        "id": "yv7Qu0zAWGR1",
        "outputId": "b24bdb97-c07c-454a-fbac-4b0d9f8182b5"
      },
      "execution_count": 26,
      "outputs": [
        {
          "output_type": "stream",
          "name": "stdout",
          "text": [
            "[[1. 1.]\n",
            " [7. 4.]\n",
            " [7. 1.]]\n"
          ]
        },
        {
          "output_type": "execute_result",
          "data": {
            "text/plain": [
              "Text(0, 0.5, 'y')"
            ]
          },
          "metadata": {},
          "execution_count": 26
        },
        {
          "output_type": "display_data",
          "data": {
            "text/plain": [
              "<Figure size 640x480 with 1 Axes>"
            ],
            "image/png": "[encoded data removed]"
          },
          "metadata": {}
        }
      ]
    },
    {
      "cell_type": "markdown",
      "source": [
        "## Agrupamiento de datos"
      ],
      "metadata": {
        "id": "4EnX8W3W0XAb"
      }
    },
    {
      "cell_type": "code",
      "source": [
        "from copy import deepcopy\n",
        "\n",
        "# Para calcular la distancia entre dos puntos usaremos la distancia euclidiana\n",
        "def distancia_euclidiana(a,b,ax=1):\n",
        "  return np.linalg.norm(a-b,axis=ax)\n",
        "\n",
        "# Creamos una matriz de 0 con las mismas dimensiones que C (los centroides)\n",
        "C_prev = np.zeros(C.shape)\n",
        "\n",
        "# Almacenamos cada punto al agrupamiento que pertenezca\n",
        "clusters = np.zeros(len(X))\n",
        "\n",
        "# C son los centroides aleatorios y C_prev son todos ceros\n",
        "# Medimos la distancia entre los centroides y C_prev\n",
        "diferencia_distancias = distancia_euclidiana(C, C_prev)\n",
        "\n",
        "# El algoritmo se ejecuta hasta que no haya una diferencia\n",
        "# entre las distancias de los centroides previamente y luego de la iteración\n",
        "while diferencia_distancias.any() != 0:\n",
        "  # Asignamos cada valor a su agrupamiento más cercano\n",
        "  for i in range(len(X)):\n",
        "    distancias = distancia_euclidiana(X[i], C)\n",
        "\n",
        "    # Devuelve el indice de valores minimos entre los ejes\n",
        "    cluster = np.argmin(distancias)\n",
        "    clusters[i] = cluster\n",
        "\n",
        "  # Retenemos los centroides previos\n",
        "  C_prev = deepcopy(C)\n",
        "\n",
        "# Encontramos los nuevos centroides tomando el valor promedio\n",
        "  for i in range(k):\n",
        "    # Tome todos los puntos en el agrupamiento i\n",
        "    points = [X[j] for j in range(len(X)) if clusters[j] == i]\n",
        "    if len(points) != 0:\n",
        "      C[i] = np.mean(points,axis=0)\n",
        "  # Encuentra la distancia entre los antiguos centroides y los nuevos centroides\n",
        "  diferencia_distancias = distancia_euclidiana(C, C_prev)\n",
        "\n",
        "\n"
      ],
      "metadata": {
        "id": "bxRQtojlWJ-2"
      },
      "execution_count": 27,
      "outputs": []
    },
    {
      "cell_type": "markdown",
      "source": [
        "## Graficamos los puntos agrupados"
      ],
      "metadata": {
        "id": "EJs32TQT0lGC"
      }
    },
    {
      "cell_type": "code",
      "source": [
        "# Grafica los puntos\n",
        "colors = ['b', 'r', 'y', 'g', 'c', 'm']\n",
        "for i in range(k):\n",
        "  points = np.array([X[j] for j in range(len(X)) if clusters[j] == i])\n",
        "  if len(points)>0:\n",
        "    plt.scatter(points[:,0], points[:,1], s=10, c=colors[i])\n",
        "  else:\n",
        "      # esto significa que alguno de los agrupamientos no tiene puntos\n",
        "      print(\"Por favor, vuelva a generar los centroides\")\n",
        "  plt.scatter(points[:,0], points[:,1], s=10, c=colors[i])\n",
        "  plt.scatter(C[:,0], C[:,1], marker='*', s=100, c='black')"
      ],
      "metadata": {
        "colab": {
          "base_uri": "https://localhost:8080/",
          "height": 430
        },
        "id": "IKe2lbIe0jBS",
        "outputId": "5f44effc-4d41-477a-e760-48677f024fd4"
      },
      "execution_count": 28,
      "outputs": [
        {
          "output_type": "display_data",
          "data": {
            "text/plain": [
              "<Figure size 640x480 with 1 Axes>"
            ],
            "image/png": "[encoded data removed]"
          },
          "metadata": {}
        }
      ]
    }
  ]
}