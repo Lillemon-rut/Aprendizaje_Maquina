{
  "nbformat": 4,
  "nbformat_minor": 0,
  "metadata": {
    "colab": {
      "provenance": []
    },
    "kernelspec": {
      "name": "python3",
      "display_name": "Python 3"
    },
    "language_info": {
      "name": "python"
    }
  },
  "cells": [
    {
      "cell_type": "markdown",
      "source": [
        "# Regresión Logística\n",
        "\n",
        "Implementación de regresión logística para clasificación binaria utilizando método del gradiente"
      ],
      "metadata": {
        "id": "soN7KAayJIYH"
      }
    },
    {
      "cell_type": "code",
      "execution_count": 1,
      "metadata": {
        "id": "ERkHZwfzI1yx"
      },
      "outputs": [],
      "source": [
        "# Importamos las librerías necesarias\n",
        "\n",
        "%matplotlib inline\n",
        "import matplotlib.pyplot as plt\n",
        "import numpy as np\n",
        "\n",
        "import torch\n",
        "import torch.nn.functional as F"
      ]
    },
    {
      "cell_type": "code",
      "source": [
        "# Delimitamos los datos de prueba y entrenamiento a partir del conjunto de datos RegresionLogistica.txt\n",
        "\n",
        "data = np.genfromtxt('RegresionLogistica.txt', delimiter='\\t')\n",
        "x = data[:, :2].astype(np.float32)\n",
        "y = data[:, 2].astype(np.int64)\n",
        "\n",
        "np.random.seed(123)\n",
        "idx = np.arange(y.shape[0])\n",
        "np.random.shuffle(idx)\n",
        "X_test, y_test = x[idx[:25]], y[idx[:25]]\n",
        "X_train, y_train = x[idx[25:]], y[idx[25:]]\n",
        "\n",
        "# normalizamos los datos\n",
        "mu, std = np.mean(X_train, axis=0), np.std(X_train, axis=0)\n",
        "X_train, X_test = (X_train - mu) / std, (X_test - mu) / std\n",
        "\n",
        "# Graficamos los datos\n",
        "fig, ax = plt.subplots(1, 2, figsize=(7, 2.5))\n",
        "ax[0].scatter(X_train[y_train == 1, 0], X_train[y_train == 1, 1])\n",
        "ax[0].scatter(X_train[y_train == 0, 0], X_train[y_train == 0, 1])\n",
        "ax[1].scatter(X_test[y_test == 1, 0], X_test[y_test == 1, 1])\n",
        "ax[1].scatter(X_test[y_test == 0, 0], X_test[y_test == 0, 1])\n",
        "plt.xlim([x[:, 0].min()-0.5, x[:, 0].max()+0.5])\n",
        "plt.ylim([x[:, 1].min()-0.5, x[:, 1].max()+0.5])\n",
        "plt.show()"
      ],
      "metadata": {
        "colab": {
          "base_uri": "https://localhost:8080/",
          "height": 253
        },
        "id": "GJSI4rBaJk7q",
        "outputId": "de8a0162-c28d-4d3f-bec4-6d95e4837dc2"
      },
      "execution_count": 14,
      "outputs": [
        {
          "output_type": "display_data",
          "data": {
            "text/plain": [
              "<Figure size 700x250 with 2 Axes>"
            ],
            "image/png": "[encoded data removed]"
          },
          "metadata": {}
        }
      ]
    },
    {
      "cell_type": "markdown",
      "source": [
        "## Creación del modelo usando la API nn.Module"
      ],
      "metadata": {
        "id": "VRlu4mc-OV7h"
      }
    },
    {
      "cell_type": "code",
      "source": [
        "DISPOSITIVO = torch.device(\"cuda:0\" if torch.cuda.is_available() else \"cpu\")\n",
        "\n",
        "class RegresionLogistica(torch.nn.Module):\n",
        "\n",
        "    def __init__(self, num_caracteristicas):\n",
        "        super(RegresionLogistica, self).__init__()\n",
        "        self.perceptron = torch.nn.Linear(num_caracteristicas, 1)\n",
        "\n",
        "        # Se inicializa el vector de pesos y bias en cero\n",
        "        self.perceptron.weight.detach().zero_()\n",
        "        self.perceptron.bias.detach().zero_()\n",
        "\n",
        "    def forward(self, x):\n",
        "        logits = self.perceptron(x)\n",
        "        probas = torch.sigmoid(logits)\n",
        "        return probas\n",
        "\n",
        "modelo = RegresionLogistica(num_caracteristicas=2).to(DISPOSITIVO)\n",
        "optimizer = torch.optim.SGD(modelo.parameters(), lr=0.1)"
      ],
      "metadata": {
        "id": "D7hpHd0VOi9l"
      },
      "execution_count": 24,
      "outputs": []
    },
    {
      "cell_type": "markdown",
      "source": [
        "# Entrenamiento del modelo y exactitud"
      ],
      "metadata": {
        "id": "kuUds4qwPbV0"
      }
    },
    {
      "cell_type": "code",
      "source": [
        "def exactitud_compilacion(etiquetas_var, pred_probas):\n",
        "    pred_etiquetas = torch.where((pred_probas > 0.5),\n",
        "                              torch.tensor([1]),\n",
        "                              torch.tensor([0])).view(-1)\n",
        "    exactitud = torch.sum(pred_etiquetas == etiquetas_var.view(-1)).float() / etiquetas_var.size(0)\n",
        "    return exactitud\n",
        "\n",
        "\n",
        "num_epocas = 5\n",
        "\n",
        "X_train_tensor = torch.tensor(X_train, dtype=torch.float32, device=DISPOSITIVO)\n",
        "y_train_tensor = torch.tensor(y_train, dtype=torch.float32, device=DISPOSITIVO).view(-1, 1)\n",
        "\n",
        "\n",
        "for epoca in range(num_epocas):\n",
        "\n",
        "    #### Calcula las salidas ####\n",
        "    salida = modelo(X_train_tensor)\n",
        "\n",
        "    #### Calcula los gradientes ####\n",
        "    costo = F.binary_cross_entropy(salida, y_train_tensor, reduction='sum')\n",
        "    optimizer.zero_grad()\n",
        "    costo.backward()\n",
        "\n",
        "    #### Actualiza los pesos ####\n",
        "    optimizer.step()\n",
        "\n",
        "    #### Logging ####\n",
        "    pred_probas = modelo(X_train_tensor)\n",
        "    exactitud = exactitud_compilacion(y_train_tensor, pred_probas)\n",
        "    print('Epoca: %03d' % (epoca + 1), end=\"\")\n",
        "    print(' | Exactitud del entrenamiento: %.3f' % exactitud, end=\"\")\n",
        "    print(' | Costo: %.3f' % F.binary_cross_entropy(pred_probas, y_train_tensor))\n",
        "\n",
        "\n",
        "\n",
        "print('\\nParametros del modelo:')\n",
        "print('  Pesos: %s' % modelo.perceptron.weight)\n",
        "print('  Bias: %s' % modelo.perceptron.bias)"
      ],
      "metadata": {
        "colab": {
          "base_uri": "https://localhost:8080/"
        },
        "id": "Fa_ptTZNPuFT",
        "outputId": "9345f43c-33a3-48b6-ea72-7297efaa116d"
      },
      "execution_count": 26,
      "outputs": [
        {
          "output_type": "stream",
          "name": "stdout",
          "text": [
            "Epoca: 001 | Exactitud del entrenamiento: 1.000 | Costo: 0.019\n",
            "Epoca: 002 | Exactitud del entrenamiento: 1.000 | Costo: 0.019\n",
            "Epoca: 003 | Exactitud del entrenamiento: 1.000 | Costo: 0.018\n",
            "Epoca: 004 | Exactitud del entrenamiento: 1.000 | Costo: 0.018\n",
            "Epoca: 005 | Exactitud del entrenamiento: 1.000 | Costo: 0.017\n",
            "\n",
            "Parametros del modelo:\n",
            "  Pesos: Parameter containing:\n",
            "tensor([[3.5601, 3.8335]], requires_grad=True)\n",
            "  Bias: Parameter containing:\n",
            "tensor([0.1373], requires_grad=True)\n"
          ]
        }
      ]
    },
    {
      "cell_type": "markdown",
      "source": [
        "## Evaluando el modelo"
      ],
      "metadata": {
        "id": "u5MQYct8RqsP"
      }
    },
    {
      "cell_type": "code",
      "source": [
        "X_test_tensor = torch.tensor(X_test, dtype=torch.float32, device=DISPOSITIVO)\n",
        "y_test_tensor = torch.tensor(y_test, dtype=torch.float32, device=DISPOSITIVO)\n",
        "\n",
        "pred_probas = modelo(X_test_tensor)\n",
        "exactitud_prueba = exactitud_compilacion(y_test_tensor, pred_probas)\n",
        "\n",
        "print('Exactitud de la prueba: %.2f%%' % (exactitud_prueba*100))"
      ],
      "metadata": {
        "colab": {
          "base_uri": "https://localhost:8080/"
        },
        "id": "GtMO7eRqRsRD",
        "outputId": "80b17ea3-c840-4874-e80c-52b6266bcd45"
      },
      "execution_count": 31,
      "outputs": [
        {
          "output_type": "stream",
          "name": "stdout",
          "text": [
            "Exactitud de la prueba: 100.00%\n"
          ]
        }
      ]
    },
    {
      "cell_type": "markdown",
      "source": [
        "## Graficación del modelo"
      ],
      "metadata": {
        "id": "xRiJeDIOSBo7"
      }
    },
    {
      "cell_type": "code",
      "source": [
        "w, b = modelo.perceptron.weight.view(-1), modelo.perceptron.bias\n",
        "\n",
        "x_min = -2\n",
        "y_min = ( (-(w[0] * x_min) - b[0])\n",
        "          / w[1] )\n",
        "y_min = y_min.detach().numpy()\n",
        "\n",
        "x_max = 2\n",
        "y_max = ( (-(w[0] * x_max) - b[0])\n",
        "          / w[1] )\n",
        "y_max = y_max.detach().numpy()\n",
        "\n",
        "\n",
        "\n",
        "fig, ax = plt.subplots(1, 2, sharex=True, figsize=(7, 3))\n",
        "ax[0].plot([x_min, x_max], [y_min, y_max])\n",
        "ax[1].plot([x_min, x_max], [y_min, y_max])\n",
        "\n",
        "ax[0].scatter(X_train[y_train==0, 0], X_train[y_train==0, 1], label='clase 0', marker='o')\n",
        "ax[0].scatter(X_train[y_train==1, 0], X_train[y_train==1, 1], label='clase 1', marker='s')\n",
        "\n",
        "ax[1].scatter(X_test[y_test==0, 0], X_test[y_test==0, 1], label='clase 0', marker='o')\n",
        "ax[1].scatter(X_test[y_test==1, 0], X_test[y_test==1, 1], label='clase 1', marker='s')\n",
        "\n",
        "ax[1].legend(loc='upper left')\n",
        "plt.show()"
      ],
      "metadata": {
        "colab": {
          "base_uri": "https://localhost:8080/",
          "height": 296
        },
        "id": "h20QOd_6SE2a",
        "outputId": "d335c244-d016-4cee-e7da-a811068187b0"
      },
      "execution_count": 36,
      "outputs": [
        {
          "output_type": "display_data",
          "data": {
            "text/plain": [
              "<Figure size 700x300 with 2 Axes>"
            ],
            "image/png": "[encoded data removed]"
          },
          "metadata": {}
        }
      ]
    }
  ]
}