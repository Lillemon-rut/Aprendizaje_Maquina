{
  "nbformat": 4,
  "nbformat_minor": 0,
  "metadata": {
    "colab": {
      "provenance": []
    },
    "kernelspec": {
      "name": "python3",
      "display_name": "Python 3"
    },
    "language_info": {
      "name": "python"
    }
  },
  "cells": [
    {
      "cell_type": "code",
      "execution_count": 30,
      "metadata": {
        "colab": {
          "base_uri": "https://localhost:8080/"
        },
        "id": "qAISmgsPsX-g",
        "outputId": "462badae-57ae-4e6f-e9f8-9fa36c7a07dd"
      },
      "outputs": [
        {
          "output_type": "stream",
          "name": "stdout",
          "text": [
            "Pesos:  [2.128]\n",
            "Bias:  [1.024]\n"
          ]
        }
      ],
      "source": [
        "import numpy as np\n",
        "import matplotlib.pyplot as plt\n",
        "\n",
        "Datos_entrada = np.array([1,3,2])\n",
        "Datos_salida = np.array([3,5,7])\n",
        "\n",
        "# Inicializamos los pesos en cero.\n",
        "pesos = np.array([0])\n",
        "bias = 0\n",
        "tasa_aprendizaje = 0.1\n",
        "\n",
        "def z(peso, entrada, bias):\n",
        "  return np.dot(peso,entrada) + bias\n",
        "\n",
        "def descenso_gradiente(peso, entrada, resultado_esperado, bias):\n",
        "  for i in range(len(entrada)):\n",
        "    resultado = z(peso, entrada[i], bias)\n",
        "    inc_w = -tasa_aprendizaje*entrada[i]*(resultado - resultado_esperado[i] )\n",
        "    inc_b = -tasa_aprendizaje*(resultado - resultado_esperado[i])\n",
        "    peso = peso + inc_w\n",
        "    bias = bias + inc_b\n",
        "  return peso,bias\n",
        "\n",
        "pesos, bias = descenso_gradiente(pesos, Datos_entrada, Datos_salida, bias)\n",
        "print('Pesos: ',pesos)\n",
        "print('Bias: ',bias)\n",
        "\n"
      ]
    },
    {
      "cell_type": "markdown",
      "source": [
        "La función ```z``` es nuestra regla de propagación, esta función realiza el producto punto entre el vector de pesos y los datos de entrada para luego sumar la bias.\n",
        "\n",
        "La función ```descenso_gradiente``` ejecuta el algoritmo del método de gradiente para entrenar perceptrones, en este caso al tomar los datos uno por uno no hace falta dividir por la media de los datos pues podemos verlo como agrupar el conjunto por lotes de tamaño 1.\n",
        "\n"
      ],
      "metadata": {
        "id": "alyOkT7wKNnz"
      }
    },
    {
      "cell_type": "code",
      "source": [
        "def recta(x,w,b):\n",
        "  return w*x + b\n",
        "\n",
        "dominio = np.linspace(0,5,1000)\n",
        "rango = recta(dominio,pesos,bias)\n",
        "plt.plot(dominio,rango, c='b')\n",
        "\n",
        "\n",
        "\n",
        "plt.scatter(Datos_entrada,Datos_salida, c='r', s=25)\n",
        "plt.scatter(5,recta(5,pesos,bias), c='b', s=25)\n",
        "plt.show()\n",
        "\n",
        "print('f(5) = ', recta(5,pesos,bias))\n"
      ],
      "metadata": {
        "colab": {
          "base_uri": "https://localhost:8080/",
          "height": 448
        },
        "id": "PcjKp_YXwrsB",
        "outputId": "92c23665-9d06-4c06-89c1-fdd2f0f74d45"
      },
      "execution_count": 40,
      "outputs": [
        {
          "output_type": "display_data",
          "data": {
            "text/plain": [
              "<Figure size 640x480 with 1 Axes>"
            ],
            "image/png": "[encoded data removed]"
          },
          "metadata": {}
        },
        {
          "output_type": "stream",
          "name": "stdout",
          "text": [
            "f(5) =  [11.664]\n"
          ]
        }
      ]
    },
    {
      "cell_type": "markdown",
      "source": [
        "Graficamos tanto los puntos, como nuestra función lineal resultante del entrenamiento del perceptrón además de la imagen de la función en f(5). Podemos concluir que mediante el método de regresión lineal nuestra variable a analizar cuando x=5 tendrá como valor ̂y = 11.664"
      ],
      "metadata": {
        "id": "M2ixrLMvLBH5"
      }
    }
  ]
}