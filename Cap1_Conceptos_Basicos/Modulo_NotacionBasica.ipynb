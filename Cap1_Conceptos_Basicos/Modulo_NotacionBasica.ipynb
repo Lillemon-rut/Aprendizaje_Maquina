{
  "nbformat": 4,
  "nbformat_minor": 0,
  "metadata": {
    "colab": {
      "provenance": []
    },
    "kernelspec": {
      "name": "python3",
      "display_name": "Python 3"
    },
    "language_info": {
      "name": "python"
    }
  },
  "cells": [
    {
      "cell_type": "markdown",
      "source": [
        "# Módulos de notación básica"
      ],
      "metadata": {
        "id": "m0AYsO2HywD8"
      }
    },
    {
      "cell_type": "markdown",
      "source": [
        "## Funciones"
      ],
      "metadata": {
        "id": "HjK_pc6dy8oF"
      }
    },
    {
      "cell_type": "code",
      "execution_count": 4,
      "metadata": {
        "colab": {
          "base_uri": "https://localhost:8080/"
        },
        "id": "KjaPPcfnxCt7",
        "outputId": "62ba1669-7398-484d-fcd9-76ed432eeec2"
      },
      "outputs": [
        {
          "output_type": "stream",
          "name": "stdout",
          "text": [
            "f(2)= 4 \n",
            "f(-2)= 4\n",
            "\n",
            "g(0.3)= 1 \n",
            "g(-3.1)= 0\n"
          ]
        }
      ],
      "source": [
        "# Función f(x)=x^2\n",
        "def f(x):\n",
        "  return x*x\n",
        "\n",
        "# Ejemplos\n",
        "print(\"f(2)=\",f(2),\"\\nf(-2)=\",f(-2))\n",
        "\n",
        "# Función escalón unitario g(x)\n",
        "def g(x):\n",
        "  if x>0:\n",
        "    return 1\n",
        "  else:\n",
        "    return 0\n",
        "\n",
        "# Ejemplos\n",
        "print(\"\\ng(0.3)=\",g(0.3),\"\\ng(-3.1)=\",g(-3.1))\n"
      ]
    },
    {
      "cell_type": "markdown",
      "source": [
        "## Sumatoria"
      ],
      "metadata": {
        "id": "5Bfc85AezArC"
      }
    },
    {
      "cell_type": "code",
      "source": [
        "Datos = [-1,3,7]  # Lista de datos\n",
        "\n",
        "def Sumatoria(X,c):  # Función que toma una lista X y una constante c\n",
        "  resultado = 0\n",
        "  for i in range(len(X)):\n",
        "    resultado += c*Datos[i]\n",
        "  return resultado\n",
        "\n",
        "# Ejemplo para cuando c=1\n",
        "print('Suma de los datos: ', Sumatoria(Datos,1))\n",
        "\n",
        "def Productoria(X):\n",
        "  resultado = 1\n",
        "  for i in range(len(X)):\n",
        "    resultado *= X[i]\n",
        "  return resultado\n",
        "\n",
        "# Ejemplo para cuando c=1\n",
        "print('Producto de los datos: ', Productoria(Datos))\n"
      ],
      "metadata": {
        "colab": {
          "base_uri": "https://localhost:8080/"
        },
        "id": "9ynEwg6_zI-D",
        "outputId": "567f031c-f74f-45b8-9e3c-2508e2f4d9c6"
      },
      "execution_count": 6,
      "outputs": [
        {
          "output_type": "stream",
          "name": "stdout",
          "text": [
            "Suma de los datos:  9\n",
            "Producto de los datos:  -21\n"
          ]
        }
      ]
    }
  ]
}