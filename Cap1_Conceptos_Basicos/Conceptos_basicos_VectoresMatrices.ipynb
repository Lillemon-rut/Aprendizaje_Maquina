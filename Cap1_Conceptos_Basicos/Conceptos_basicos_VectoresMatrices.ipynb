{
  "nbformat": 4,
  "nbformat_minor": 0,
  "metadata": {
    "colab": {
      "provenance": []
    },
    "kernelspec": {
      "name": "python3",
      "display_name": "Python 3"
    },
    "language_info": {
      "name": "python"
    }
  },
  "cells": [
    {
      "cell_type": "markdown",
      "source": [
        "# Operaciones fundamentales de vectores y matrices"
      ],
      "metadata": {
        "id": "_fU8uZ7JvX7I"
      }
    },
    {
      "cell_type": "markdown",
      "source": [
        "## Vectores"
      ],
      "metadata": {
        "id": "dURhFgD0voOk"
      }
    },
    {
      "cell_type": "code",
      "execution_count": 2,
      "metadata": {
        "colab": {
          "base_uri": "https://localhost:8080/"
        },
        "id": "wQKq4uuiuCkW",
        "outputId": "d13a2675-d3a0-4bf6-8a6f-962f39cb9d26"
      },
      "outputs": [
        {
          "output_type": "stream",
          "name": "stdout",
          "text": [
            "Suma de vectores:  [11 22 33 44] \n",
            "Producto escalar:  [ 50 100 150 200] \n",
            "Producto punto:  300\n"
          ]
        }
      ],
      "source": [
        "import numpy as np\n",
        "# Crear un vector de numpy\n",
        "vector_u = np.array([10, 20, 30, 40])\n",
        "vector_v = np.array([1,2,3,4])\n",
        "# Suma de vectores\n",
        "vector_suma= vector_u + vector_v\n",
        "# Producto escalar\n",
        "escalar = 5\n",
        "vector_pescalar = escalar*vector_u\n",
        "# Producto punto\n",
        "vector_ppunto = vector_u @ vector_v\n",
        "\n",
        "print(\"Suma de vectores: \", vector_suma,\"\\nProducto escalar: \", vector_pescalar, \"\\nProducto punto: \", vector_ppunto)"
      ]
    },
    {
      "cell_type": "markdown",
      "source": [
        "## Matrices"
      ],
      "metadata": {
        "id": "17eRtZ9-vr2u"
      }
    },
    {
      "cell_type": "code",
      "source": [
        "import numpy as np\n",
        "# Crear una matriz de numpy\n",
        "A = np.array([\n",
        "[1, 2],\n",
        "[3,4]])\n",
        "B=np.array([\n",
        "[-3,4],\n",
        "[5,6]])\n",
        "# Suma de matrices\n",
        "C=A+B\n",
        "# Producto escalar\n",
        "escalar = 5\n",
        "D = escalar*A\n",
        "# Producto entre matrices\n",
        "E= np.dot(A,B)\n",
        "print(\"Suma de matrices:\\n \", C,\"\\nProducto escalar:\\n \", D, \"\\nProducto entre matrices:\\n \", E)\n"
      ],
      "metadata": {
        "colab": {
          "base_uri": "https://localhost:8080/"
        },
        "id": "-lYIBLfnvuND",
        "outputId": "66ad3ba1-2b79-48f3-c1f3-9a1e3237bd92"
      },
      "execution_count": 3,
      "outputs": [
        {
          "output_type": "stream",
          "name": "stdout",
          "text": [
            "Suma de matrices:\n",
            "  [[-2  6]\n",
            " [ 8 10]] \n",
            "Producto escalar:\n",
            "  [[ 5 10]\n",
            " [15 20]] \n",
            "Producto entre matrices:\n",
            "  [[ 7 16]\n",
            " [11 36]]\n"
          ]
        }
      ]
    }
  ]
}